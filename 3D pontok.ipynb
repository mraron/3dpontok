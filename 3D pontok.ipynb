{
 "cells": [
  {
   "cell_type": "code",
   "execution_count": 180,
   "metadata": {},
   "outputs": [
    {
     "name": "stdout",
     "output_type": "stream",
     "text": [
      "2000 random points, the first half contains the given points and the second half the queries\n",
      "kdtree= 0.10956836199966347\n",
      "bruteforce= 1.890804843999831\n",
      "[164, 9, 8]\n",
      "[176, 12, 13]\n"
     ]
    },
    {
     "data": {
      "image/png": "[encoded data removed]",
      "text/plain": [
       "<matplotlib.figure.Figure at 0x7fa7107b90f0>"
      ]
     },
     "metadata": {},
     "output_type": "display_data"
    },
    {
     "data": {
      "image/png": "[encoded data removed]",
      "text/plain": [
       "<matplotlib.figure.Figure at 0x7fa710c74fd0>"
      ]
     },
     "metadata": {},
     "output_type": "display_data"
    }
   ],
   "source": [
    "import matplotlib.pyplot as plt\n",
    "import random\n",
    "from collections import namedtuple\n",
    "from operator import itemgetter\n",
    "import timeit\n",
    "\n",
    "n = 2000\n",
    "\n",
    "def distance(v1, v2):\n",
    "    res = 0\n",
    "    for i in range(0, len(v1)):\n",
    "        res = res + (v1[i]-v2[i])*(v1[i]-v2[i])\n",
    "    \n",
    "    return res\n",
    "\n",
    "def generate():\n",
    "    points = []\n",
    "\n",
    "    for i in range(n):\n",
    "        points.append([random.randint(0,255) for i in range(3)])\n",
    "\n",
    "    return points\n",
    "\n",
    "\n",
    "def bruteforce(points):\n",
    "    res = []\n",
    "    \n",
    "    for q in range(n//2, n):\n",
    "        best = 0\n",
    "        for p in range(0,n//2):\n",
    "            if distance(points[p], points[q])<distance(points[best], points[q]):\n",
    "                best = p\n",
    "        \n",
    "        res.append(points[best])\n",
    "    \n",
    "    return res\n",
    "\n",
    "def kdtree(points):\n",
    "    class Node(namedtuple('Node', 'axis point left_child right_child')):\n",
    "        \"\"\"a node\"\"\"\n",
    "    \n",
    "    def build_kdtree(points, depth=0):\n",
    "        try:\n",
    "            d = len(points[0])\n",
    "        except IndexError as e:\n",
    "            return None\n",
    "        \n",
    "        axis = depth % d\n",
    "        points.sort(key=itemgetter(axis))\n",
    "        \n",
    "        mid = len(points)//2\n",
    "        \n",
    "        return Node(\n",
    "            axis=axis,\n",
    "            point=points[mid],\n",
    "            left_child=build_kdtree(points[:mid], depth+1),\n",
    "            right_child=build_kdtree(points[mid+1:], depth+1)\n",
    "        )\n",
    "    \n",
    "    root = build_kdtree(points[:n//2])\n",
    "    \n",
    "    def query(node, point, _best=None):\n",
    "        if node is None:\n",
    "            return _best\n",
    "        \n",
    "        if _best is None:\n",
    "            _best = node.point\n",
    "\n",
    "        if distance(point,_best)>distance(point,node.point):\n",
    "            _best = node.point\n",
    "            \n",
    "        if node.point[node.axis]<=point[node.axis]:\n",
    "            _best = query(node.right_child, point, _best)\n",
    "        else:\n",
    "            _best = query(node.left_child, point, _best)\n",
    "        \n",
    "        projection = list(point)\n",
    "        projection[node.axis]=node.point[node.axis]\n",
    "        \n",
    "        if distance(point, projection)<distance(point, _best):\n",
    "            if node.point[node.axis]<=point[node.axis]:\n",
    "                _best = query(node.left_child, point, _best)\n",
    "            else:\n",
    "                _best = query(node.right_child, point, _best)\n",
    "\n",
    "        return _best\n",
    "    \n",
    " \n",
    "    \n",
    "    res = []\n",
    "    for i in range(n//2, n):\n",
    "        res.append(query(root, points[i]))\n",
    "       \n",
    "    return res\n",
    "\n",
    "points = generate()\n",
    "\n",
    "print(n, \"random points, the first half contains the given points and the second half the queries\")\n",
    "print(\"kdtree=\", timeit.timeit(\"kdtree(points)\", setup=\"from __main__ import kdtree, points\", number=1))\n",
    "print(\"bruteforce=\", timeit.timeit(\"bruteforce(points)\", setup=\"from __main__ import bruteforce, points\", number=1))\n",
    "\n",
    "def show(color):\n",
    "    cpy=list(color)\n",
    "    cpy[0] = cpy[0]/255\n",
    "    cpy[1] = cpy[1]/255\n",
    "    cpy[2] = cpy[2]/255\n",
    "    \n",
    "    print(color)\n",
    "    \n",
    "    plt.figure()\n",
    "    plt.imshow([[cpy]])\n",
    "\n",
    "res1=kdtree(points)\n",
    "    \n",
    "show(res1[0])\n",
    "show(points[n//2])"
   ]
  },
  {
   "cell_type": "code",
   "execution_count": null,
   "metadata": {},
   "outputs": [],
   "source": []
  }
 ],
 "metadata": {
  "kernelspec": {
   "display_name": "Python 3",
   "language": "python",
   "name": "python3"
  },
  "language_info": {
   "codemirror_mode": {
    "name": "ipython",
    "version": 3
   },
   "file_extension": ".py",
   "mimetype": "text/x-python",
   "name": "python",
   "nbconvert_exporter": "python",
   "pygments_lexer": "ipython3",
   "version": "3.6.3"
  }
 },
 "nbformat": 4,
 "nbformat_minor": 2
}
